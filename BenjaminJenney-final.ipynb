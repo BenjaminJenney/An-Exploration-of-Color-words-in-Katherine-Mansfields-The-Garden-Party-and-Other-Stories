{
 "cells": [
  {
   "cell_type": "markdown",
   "metadata": {},
   "source": [
    "# An Exploration of Color in Katherine Mansfield's The Garden Party and Other Stories\n",
    "\n",
    "## Benjamin Jenney\n",
    "\n",
    "16 December 2020\n",
    "\n",
    "Introduction to Computational Literary Analysis,\n",
    "\n",
    "Department of English and Comparative Literature, Columbia University,\n",
    "\n",
    "Instructor: Jonathan Reeve"
   ]
  },
  {
   "cell_type": "code",
   "execution_count": 1,
   "metadata": {},
   "outputs": [],
   "source": [
    "import nltk\n",
    "import matplotlib.pyplot as plt\n",
    "from nltk.corpus import wordnet as wn\n",
    "from nltk.stem import PorterStemmer\n",
    "from nltk.stem import WordNetLemmatizer\n",
    "from collections import Counter\n",
    "from nltk.text import Text\n",
    "import pandas as pd"
   ]
  },
  {
   "cell_type": "code",
   "execution_count": 2,
   "metadata": {},
   "outputs": [],
   "source": [
    "#create preprocessing instances\n",
    "stemmer = PorterStemmer()\n",
    "lem = WordNetLemmatizer()\n",
    "stopwords = nltk.corpus.stopwords.words('english')\n",
    "\n",
    "fulltext_gardenparty = open(\"../garden-party.md\").read()\n",
    "fulltext = fulltext_gardenparty.split('\\n# ')"
   ]
  },
  {
   "cell_type": "code",
   "execution_count": 3,
   "metadata": {},
   "outputs": [],
   "source": [
    "# list of titles operates as keys for the corpus dictionary\n",
    "list_of_titles = [\n",
    "    \"At the Bay\",\n",
    "    \"The Garden Party\",\n",
    "    \"The Daughters of the Late Colonel\",\n",
    "    \"Mr and Mrs Dove\",\n",
    "    \"The Young Girl\",\n",
    "    \"Life of Ma Parker\",\n",
    "    \"Marriage à la Mode\",\n",
    "    \"The Voyage\",\n",
    "    \"Miss Brill\",\n",
    "    \"Her First Ball\",\n",
    "    \"The Singing Lesson\",\n",
    "    \"The Stranger\",\n",
    "    \"Bank Holiday\",\n",
    "    \"An Ideal Family\",\n",
    "    \"The Lady's Maid\",   \n",
    "    ]"
   ]
  },
  {
   "cell_type": "code",
   "execution_count": 4,
   "metadata": {},
   "outputs": [],
   "source": [
    "def preprocess(corpus):\n",
    "    '''Normalizes corpus, corpus is a dictionary'''\n",
    "    \n",
    "    titles = corpus.keys()\n",
    "    \n",
    "    for title in titles:\n",
    "        corpus[title] = [w.lower() for w in nltk.word_tokenize(corpus[title]) if w.isalpha() and w.lower() not in stopwords]\n",
    "        corpus[title] = [stemmer.stem(w) if not w == 'purple' else w for w in corpus[title]]\n",
    "        corpus[title] = [lem.lemmatize(w) for w in corpus[title]]\n",
    "    \n",
    "    return corpus \n",
    "\n",
    "def buildCorpus(titles, delimiter):\n",
    "    '''Build Corpus, Takes a list of titles \n",
    "    and a delimiter, for splitting by chapter \n",
    "    or story, to create a dictionary'''\n",
    "    \n",
    "    text_gardenparty = fulltext_gardenparty[178:] # remove metadata\n",
    "    \n",
    "    stories = text_gardenparty.split(delimiter) # split by story\n",
    "    \n",
    "    for story in stories:\n",
    "        story.replace('\\n', ' ')\n",
    "    \n",
    "    corpus = {}\n",
    "    \n",
    "    for i, title in zip(range(0, len(titles)), titles):\n",
    "        corpus.update({title : stories[i]})\n",
    "    \n",
    "    return preprocess(corpus)\n"
   ]
  },
  {
   "cell_type": "code",
   "execution_count": 5,
   "metadata": {},
   "outputs": [],
   "source": [
    "def getAllHyponyms(synset, hyponyms = list()):\n",
    "    '''Traverses a synset tree\n",
    "    returns a set of the leaf nodes'''\n",
    "    \n",
    "    synset_hyponyms = synset.hyponyms()\n",
    "    \n",
    "    if synset_hyponyms:\n",
    "        hyponyms += synset_hyponyms\n",
    "        for hyponym in synset_hyponyms:\n",
    "            getAllHyponyms(hyponym, hyponyms)\n",
    "    \n",
    "    return set(hyponyms)\n",
    "\n",
    "def getSynsetsWords(synsets):\n",
    "    '''extracts words from synset objects'''\n",
    "    \n",
    "    words = []\n",
    "    \n",
    "    for syn in synsets:\n",
    "        for lem in syn.lemmas():\n",
    "            words.append(lem.name().replace('_', \" \"))\n",
    "    \n",
    "    return words\n",
    "\n",
    "def colorCounts(tokens, colors):\n",
    "    '''Takes word tokens, and a list of colors and\n",
    "    returns a Counter object in descending order'''\n",
    "    \n",
    "    color_count = []\n",
    "    \n",
    "    for color in colors:\n",
    "        for word in tokens:\n",
    "            if color == word:\n",
    "                color_count.append(word)\n",
    "    \n",
    "    c = Counter(color_count)\n",
    "    \n",
    "    # Order the Counter by largest color match counts\n",
    "    c = {k: v for k, v in sorted(c.items(), key=lambda item: item[1], reverse=True)}\n",
    "    return c\n",
    "\n",
    "def getAllColorCounts(corpus, colors):\n",
    "    '''Gets color counts for all elements\n",
    "    in the corpus. Returns a list of sorted\n",
    "    Counter objects'''\n",
    "    titles = corpus.keys()\n",
    "    \n",
    "    corpus_color_counts = []\n",
    "    \n",
    "    for title in titles:\n",
    "        corpus_color_counts.append(colorCounts(corpus[title], colors))\n",
    "    \n",
    "    return corpus_color_counts\n",
    "\n",
    "def removeControversialColorWords(col):\n",
    "    '''not all chromatic and achromatic colors \n",
    "    in WordNet are definitively color words\n",
    "    for consistency I had to remove some.\n",
    "    Returns the difference of two sets'''\n",
    "    \n",
    "    contraversial_colors = ['rose', 'carnat', 'peach', 'pearl','coffee',\n",
    "                           'straw', 'chocol', 'bleach', 'maiz', 'chalk', \n",
    "                            'canari', 'apricot','bone', 'cherri', 'wine', \n",
    "                            'copper', 'chestnut', 'carnation', 'chocolate',\n",
    "                           'lemon', 'scarlet', 'amber', 'emerald', 'blond']\n",
    "    \n",
    "    return set(col) - set(contraversial_colors)\n",
    "\n",
    "def getWordNetColors(wn):\n",
    "    '''retrieve color words from WordNetand \n",
    "    returns a list of colorwords with controversial \n",
    "    colorwords removed'''\n",
    "        \n",
    "    colors_synsets = getAllHyponyms(wn.synsets('chromatic_color')[0])\n",
    "    colors_synsets |= getAllHyponyms(wn.synsets('achromatic_color')[0])\n",
    "    \n",
    "    colors = getSynsetsWords(colors_synsets)\n",
    "   \n",
    "    colors[colors.index('fuschia')] = 'fuchsia' # word net spelling mistake?\n",
    "    \n",
    "    colors = [lem.lemmatize(w) for w in colors]\n",
    "    \n",
    "    return list(set(removeControversialColorWords(colors)))\n",
    "\n",
    "def concordance(full_text, word, width=80, lines=25, islist=False):\n",
    "    '''takes text, word, and options for running a simlpe\n",
    "    concordance'''\n",
    "\n",
    "    tobj = Text(full_text)\n",
    "    return tobj.concordance(word, width=width, lines=lines)"
   ]
  },
  {
   "cell_type": "code",
   "execution_count": 6,
   "metadata": {},
   "outputs": [],
   "source": [
    "# Color Collection\n",
    "wn_colors = getWordNetColors(wn)\n",
    "\n",
    "# Corpus is normalized, with all word tokens for each respective story\n",
    "corpus = buildCorpus(list_of_titles, '\\n# ')\n",
    "\n",
    "# List of Counter Objects (color counts) for each story\n",
    "corpus_colors = getAllColorCounts(corpus, wn_colors)"
   ]
  },
  {
   "cell_type": "code",
   "execution_count": 7,
   "metadata": {},
   "outputs": [],
   "source": [
    "def createColorDataFrame(list_of_titles, corpus_colors):\n",
    "    '''creates a dataframe from each stories color serires'''\n",
    "    \n",
    "    df_dict_corpus_colors = {}\n",
    "    \n",
    "    i = 0\n",
    "    \n",
    "    for story_colors in corpus_colors:\n",
    "        df_dict_corpus_colors[list_of_titles[i]] = pd.Series(story_colors, index = story_colors.keys())\n",
    "        \n",
    "        i += 1\n",
    "    \n",
    "    del i\n",
    "    \n",
    "    return df_dict_corpus_colors\n",
    "\n",
    "def graphColorRatios(corpus, titles, color_counts):\n",
    "    '''graphs match count ratios: numMatches/totalNumWords\n",
    "    returns a list of color ratios'''\n",
    "    \n",
    "    color_ratios = []\n",
    "    counts = []\n",
    "    \n",
    "    for color_count in color_counts:\n",
    "        counts.append(sum(color_count.values()))\n",
    "    \n",
    "    for j, title in zip(range(0,len(list_of_titles)), list_of_titles):\n",
    "            color_ratios.append(counts[j]/len(corpus[title]))\n",
    "    \n",
    "    pd.Series(color_ratios, index = list_of_titles).plot(kind='bar')\n",
    "    \n",
    "    return color_ratios\n",
    "\n",
    "def graphGreatesColorWordRatios(ratios, list_of_titles, df_dict, corpus_colors):\n",
    "    '''simply graphs color words matches and counts\n",
    "    for stories with largest colorword ratios'''\n",
    "    \n",
    "    graph_colors = []\n",
    "    t =[]\n",
    "    dfs =[]\n",
    "    \n",
    "    for i, title in zip(range(0,len(list_of_titles)),list_of_titles):\n",
    "            if ratios[i] > .015:\n",
    "                graph_colors.append(corpus_colors[i])\n",
    "                t.append(title)\n",
    "    \n",
    "    figure, axes = plt.subplots(1, 5)\n",
    "    \n",
    "    df_dict[t[0]].plot(kind='bar', figsize=(20,2), ax=axes[0], color=graph_colors[0].keys(), title=t[0])\n",
    "    df_dict[t[1]].plot(kind='bar', ax=axes[1], color=graph_colors[1].keys(), title=t[1])\n",
    "    df_dict[t[2]].plot(kind='bar', ax=axes[2], color=graph_colors[2].keys(), title=t[2])\n",
    "    df_dict[t[3]].plot(kind='bar', ax=axes[3], color=graph_colors[3].keys(), title=t[3])\n",
    "    df_dict[t[4]].plot(kind='bar', ax=axes[4], color=graph_colors[4].keys(), title=t[4])"
   ]
  },
  {
   "cell_type": "markdown",
   "metadata": {},
   "source": [
    "Katherine Mansfield’s stories are often ambiguous, relying on the subconscious aspects of her characters, and the invocation of mood and the senses, to generate meaning in the reader. As such her stories are often discussed in terms of music or painting. In the preface of Julia van Gunsteren’s study *Katherine Mansfield and Literary Impressionism* Gunsteren argues, “… that, *if* we have to place Mansfield it will be in literary impressionism”(Gunsteren, 7) noting how many of Mansfield’s colorful descriptions lack linearity. And in a thesis published by the University of Auckland, entitled *Katherine Mansfield and Artistic Synaesthesia* researcher Miao Miao details Mansfield’s association with the Rhythmist movement which sought rhythmic natural harmony in art, and thus a breaking down of the delineations between arts various forms. Miao Miao details Mansfield's friendship with J.D. Fergusson, a fauvist painter, and illustrative editor for Rhythm magazine, the publication from which the Rhythmist movement got its name, and an epiphanic experience Mansfield had upon viewing a painting by Vincent Van Gogh. Miao, by looking at Mansfield's work and artistic evolution through the lens of fauvism, a movement which called for “a return to the organic… the intuitive and not analytical faculties of an artists mind, and an undifferentiated stage of innocent comprehension of seeing through a child’s eye” (Miao, 3) finds parallels with Mansfield’s own “innocent eye,” (Miao, 14) as well as her “shaking loose” from the boundaries of literary expression to create, what Mansfield termed as \"word-paintings.\" (Miao, 14) Furthermore, Miao notes that Mansfield’s mature works “also demonstrate a musical concern [incorporating] rhythm in her narrative through choreographed movements, reiterated images and atmospheric descriptions.” (Miao, 1) In light of this I think it would be interesting to see how Mansfield incorporates color in her collection of late works *The Garden Party and Other Stories*, to achieve her inter-art aspirations.\n",
    "\n",
    "To begin my analysis I set out to find particularly colorful works. Using WordNets lexical database I created a word color compendium based on the relational components for both chromatic and achromatic colors. After normalizing the text of each story, removing stop-words, stemming, and lemmatizing, I divided the color match counts by the total number of words in each respective story obtaining the color word ratios for each story in *The Garden Party and Other Stories.*"
   ]
  },
  {
   "cell_type": "code",
   "execution_count": 8,
   "metadata": {},
   "outputs": [
    {
     "data": {
      "image/png": "[encoded data removed]",
      "text/plain": [
       "<Figure size 432x288 with 1 Axes>"
      ]
     },
     "metadata": {
      "needs_background": "light"
     },
     "output_type": "display_data"
    }
   ],
   "source": [
    "color_ratios = graphColorRatios(corpus, list_of_titles, corpus_colors)\n",
    "df_dict = createColorDataFrame(list_of_titles, corpus_colors)    "
   ]
  },
  {
   "cell_type": "markdown",
   "metadata": {},
   "source": [
    "Studying the graph above we can see that some stories have a much greater concentration of color-words than others, and that the most color-word dense work is “The Young Girl''. Which in its first ten paragraphs provides compelling examples of both fauvism and Mansfield's Innocent Eye. In fact the first example appears right in the very first sentence. \n",
    "> In her blue dress, with her cheeks lightly flushed, her blue, blue eyes, and her gold curls pinned up as though for the first time—pinned up to be out of the way for her flight—Mrs. Raddick’s daughter might have just dropped from this radiant heaven. \n",
    "\n",
    "Consider the repetition of the word blue in \"her blue dress\" and \"her blue, blue eyes.\" Mansfield's lack of adjective variance seems to insist on the fundamental aspect of blue simultaneously invoking its nounness (or thingness) as well as its adjective form. Although the lack of grammatical nuance can be seen as childlike it is not necessarily clear whether a more conventional description, using two non-redundant consecutive adjectives, such as \"deep blue eyes\" would carry more or less meaning.\n",
    "\n",
    "Furthermore, blue, and gold, happen to be very thematic colors in *The Garden Party and Other Stories.* For instance, running a simple concordance on 'blue' shows that blue is most often used to describe either the sky, eyes, or clothing, and is often associated with youth. And gold is often a marker of some valuable material good, or of the sun's reflection in the sky. That the young girl in ‘The Young Girl’ is described with such a heavy blueness so early on, is perhaps a clue into Mansfield's sympathies as the young girl turns out to not be the most likeable of characters, though a very sympathetic one.\n",
    "\n",
    "\n",
    "The fact that ‘The Young Girl’ has the greatest color-word ratio is surprising as it doesn’t read as a particularly colorful work, unlike, say, ‘The Garden Party’, which is a story that largely takes place in, and makes a great point of, Laura’s idyllic garden, with Laura’s various descriptions of the natural beauty therein. “The Young Girl'', on the other hand, takes place in a casino carport, a diner, and in a car. However, ‘The Young Girl’ is not the only outlier."
   ]
  },
  {
   "cell_type": "code",
   "execution_count": 9,
   "metadata": {},
   "outputs": [
    {
     "data": {
      "image/png": "[encoded data removed]",
      "text/plain": [
       "<Figure size 1440x144 with 5 Axes>"
      ]
     },
     "metadata": {
      "needs_background": "light"
     },
     "output_type": "display_data"
    }
   ],
   "source": [
    "graphGreatesColorWordRatios(color_ratios, list_of_titles, df_dict, corpus_colors)"
   ]
  },
  {
   "cell_type": "markdown",
   "metadata": {},
   "source": [
    "In the five graphs above we can see the number of occurrences of each color in each of the five stories that contain highest word-color-ratios, with the y-axes simply representing the number of times each color appears. Notably blue seems to be a favorite of Mansfield as well as black and white. That these colors appear in each of these stories, as well as just about every other story in *The Garden Party and Other Stories* evidences Mansfield's repetitive use of colors, and underscores the potential for an interstory rhythm of colors supporting Miao's claim of the rithmic qualities of Mansfield's later works. (Miao, 24)\n",
    " \n",
    "'The Voyage' stands out as being the most monochromatic, which makes sense, considering its devastating subject matter, featuring a child protagonist who is being sent away to live with her grandparents, neither of whom she seems very fond of, while in the very recent aftermath of her mothers death. Similarly, we see young people coming to terms with mortality in 'The Daughters of the Late Colonel,' and 'The Garden Party'. In 'The Garden Party' Laura's encounter with death is foreshadowed by her wearing a \"black hat trimmed with gold daisies, and a long black velvet ribbon\" and in the ‘The Daughters of the Late Colonel’ we follow two young girls in the aftermath of their overbearing and patriarchal father. All three of these stories use black to create a serious, oppressive mood. Even ‘The Garden Party’ which starts off full of color, becomes drained of its colorfulness.\n",
    "\n",
    "Arguably the two most colorful works, based on the ratio of color-words and variance in color-words, are ‘Miss Brill’ and ‘At the Bay.’ And since 'At the Bay' has the widest variety of color, it seems the best candidate for a word painting. It is also a longer piece, taking up about two thirds of the collection, and as such can give us interesting insights into the rhythmic, and word-painting qualities of Mansfield's work. \n",
    "\n",
    "Immediately in 'At the Bay' we are awash with colors, in a strong display of what Gunsteren would likely call literary impressionism.\n",
    ">Very early morning. The sun was not yet risen, and the whole of Crescent Bay was hidden under a white sea-mist. The big bush-covered hills at the back were smothered. You could not see where they ended and the paddocks and bungalows began... there were no white dunes covered with reddish grass beyond them; there was nothing to mark which was beach and where was the sea... The grass was blue. Big drops hung on the bushes and just did not fall; the silvery, fluffy toi-toi was limp on its long stalks, and all the marigolds and the pinks in the bungalow gardens were bowed to the earth with wetness. Drenched were the cold fuchsias, round pearls of dew lay on the flat nasturtium leaves. It looked as though the sea had beaten up softly in the darkness, as though one immense wave had come rippling, rippling—how far?\n",
    "\n",
    "This sensational description, is full of natural color, where things seem to have no clear delineations: \"The whole\" of the bay is \"hidden under a white sea-mist,\" The bushes \"smother\" the hills, where there is \"nothing to mark\" the divide between the beach and the sea which \"had beaten up softly in the darkness... rippling how far?\" The verbs \"smother,\" and \"beaten,\", as well as the \"big drops\" that do not fall, reflect the impressionist painters desire to create contrast through action all in the instance of observation. And yet we also see some Fauvist qualities, the reddish grass, and the declarative \"The grass was blue.\"\n"
   ]
  },
  {
   "cell_type": "code",
   "execution_count": 10,
   "metadata": {},
   "outputs": [
    {
     "data": {
      "image/png": "[encoded data removed]",
      "text/plain": [
       "<Figure size 432x288 with 1 Axes>"
      ]
     },
     "metadata": {
      "needs_background": "light"
     },
     "output_type": "display_data"
    }
   ],
   "source": [
    "nltk.draw.dispersion_plot(corpus[list_of_titles[0]], \n",
    "                          list(corpus_colors[0].keys()), title=\"Dispersion of Colors in 'At the Bay'\")"
   ]
  },
  {
   "cell_type": "markdown",
   "metadata": {},
   "source": [
    "The impressionistic softness of the mist and the sea beating against the shore is continued in the atmosphere of the first few passages, as well as the word blue which we can see in the lexical dispersion plot above. Blue predominates the opening passages of 'At the Bay'. Blues, as in the other stories in the collection, help create a dreamy and idyllic state, describing wide open skies, eyes, and, in this particular case, the smoke from a placid Shepherd’s pipe which \"wreathed his head.\" Miao in a passage dedicated to the musical qualities of 'At the Bay' explains that it is not until the \"participation of Mansfield's beloved children\" do we see a movement away from the \"languid sea.\"(Miao, 128) This is reflected in the dispersion plot, where adjacent mentions of red and pink between the 1000, and 2000 marker, coinciding with Chapter four, are where we are first introduced to the Kezia, and the other children characters. Sure enough (roughly between the 2000 and 4000 marker) the color-words become more frequent and diverse. It seems that though Miao focuses more on the characters as providing \"transposition\" and rhythm(Miao, 126), color descriptions do as well. In fact if we look for the adjacent densities of blue and pink between the 3000 and 4000 markers, which coincide with the opening of Chapter VII, we find that the first few paragraphs mimic the impressionistic qualities of the opening passage I discussed earlier, but with a more frenetic energy, before a sharp dissipation in both natural and fauvist descriptions, as we come upon Kezia, having a conversation with her Grandma about death, refusing, in her adorable way, to believe that her, or her grandma will ever die. After this pivotal moment in the story we see a distinct drop off in the diversity of color-words much like we do in 'The Garden Party' and other works with themes of death. Particularly we see a distinct absence of blue in the rest of the story. Interestingly enough, we do not see many color-words further in the story, until another pivotal and even terrifying scene, where we discover to our surprise, and very much too the surprise of the children, that one of the adults has black eyes! This reversal works to incredible effect, counterposing the frequent mentions of blue eyes, and working on our learned associations of both black and blue, within ‘At the Bay’, as well as in Mansfield's other works. The distinct lack of color leading up to this very staccato color moment, is analogous to dynamic changes in music. It is also one of the many examples of the innocent eye of Mansfield, as the scene takes place from the children's perspective, and feels inexplicably accurate in how children's imaginations generate fear, and the transience of that fear, when the children realize, that \"the pale face with black eyes\" in the dark window is just one of the adults, come to pick them up."
   ]
  },
  {
   "cell_type": "markdown",
   "metadata": {},
   "source": [
    "In conclusion, I hope this brief study of color in Katherine Mansfield's *The Garden Party and Other Stories* inspires others to explore other colourful works. I also hope that by using quantitative techniques, I have provided further evidence for the inter-art qualities of Mansfield, and that by using color-word-ratios and dispersion plots, we can better understand the ways colors move inside literary works. Finally I hope by using NLP techniques to aid in a qualitative analysis of Mansfield's use of color, I have provided at least in some part a novel aspect to the studies of Mansfield's work."
   ]
  },
  {
   "cell_type": "markdown",
   "metadata": {},
   "source": [
    "## Works Cited"
   ]
  },
  {
   "cell_type": "markdown",
   "metadata": {},
   "source": [
    "Miao, Miao. “Katherine Mansfield and Artistic Synaesthesia: Weaving Colour, Rhythm and Mood.” ResearchSpace Home, ResearchSpace@Auckland, 1 Jan. 1970,\n",
    "researchspace.auckland.ac.nz/handle/2292/27183. \n",
    "\n",
    "Gunsteren, J. V. (1990). Katherine Mansfield and literary impressionism. Amsterdam: Rodopi."
   ]
  }
 ],
 "metadata": {
  "kernelspec": {
   "display_name": "Python 3",
   "language": "python",
   "name": "python3"
  },
  "language_info": {
   "codemirror_mode": {
    "name": "ipython",
    "version": 3
   },
   "file_extension": ".py",
   "mimetype": "text/x-python",
   "name": "python",
   "nbconvert_exporter": "python",
   "pygments_lexer": "ipython3",
   "version": "3.8.3"
  }
 },
 "nbformat": 4,
 "nbformat_minor": 4
}
